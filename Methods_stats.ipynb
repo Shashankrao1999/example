{
 "cells": [
  {
   "cell_type": "code",
   "execution_count": 16,
   "id": "bd31b155",
   "metadata": {},
   "outputs": [],
   "source": [
    "import numpy as np\n",
    "import pandas as pd\n",
    "from matplotlib import pyplot as plt\n",
    "import seaborn as sns\n"
   ]
  },
  {
   "cell_type": "code",
   "execution_count": 12,
   "id": "a02837c9",
   "metadata": {},
   "outputs": [],
   "source": [
    "data={\n",
    "   \"X\":np.arange(1,8),\n",
    "   \"Y\":np.array([1.5, 3.8, 6.7, 9.0, 11.2, 13.6, 16]) \n",
    "}\n",
    "dataFrame = pd.DataFrame(data=data, index = None)"
   ]
  },
  {
   "cell_type": "code",
   "execution_count": 13,
   "id": "6ff57f73",
   "metadata": {},
   "outputs": [
    {
     "data": {
      "text/html": [
       "<div>\n",
       "<style scoped>\n",
       "    .dataframe tbody tr th:only-of-type {\n",
       "        vertical-align: middle;\n",
       "    }\n",
       "\n",
       "    .dataframe tbody tr th {\n",
       "        vertical-align: top;\n",
       "    }\n",
       "\n",
       "    .dataframe thead th {\n",
       "        text-align: right;\n",
       "    }\n",
       "</style>\n",
       "<table border=\"1\" class=\"dataframe\">\n",
       "  <thead>\n",
       "    <tr style=\"text-align: right;\">\n",
       "      <th></th>\n",
       "      <th>X</th>\n",
       "      <th>Y</th>\n",
       "    </tr>\n",
       "  </thead>\n",
       "  <tbody>\n",
       "    <tr>\n",
       "      <th>0</th>\n",
       "      <td>1</td>\n",
       "      <td>1.5</td>\n",
       "    </tr>\n",
       "    <tr>\n",
       "      <th>1</th>\n",
       "      <td>2</td>\n",
       "      <td>3.8</td>\n",
       "    </tr>\n",
       "    <tr>\n",
       "      <th>2</th>\n",
       "      <td>3</td>\n",
       "      <td>6.7</td>\n",
       "    </tr>\n",
       "    <tr>\n",
       "      <th>3</th>\n",
       "      <td>4</td>\n",
       "      <td>9.0</td>\n",
       "    </tr>\n",
       "    <tr>\n",
       "      <th>4</th>\n",
       "      <td>5</td>\n",
       "      <td>11.2</td>\n",
       "    </tr>\n",
       "    <tr>\n",
       "      <th>5</th>\n",
       "      <td>6</td>\n",
       "      <td>13.6</td>\n",
       "    </tr>\n",
       "    <tr>\n",
       "      <th>6</th>\n",
       "      <td>7</td>\n",
       "      <td>16.0</td>\n",
       "    </tr>\n",
       "  </tbody>\n",
       "</table>\n",
       "</div>"
      ],
      "text/plain": [
       "   X     Y\n",
       "0  1   1.5\n",
       "1  2   3.8\n",
       "2  3   6.7\n",
       "3  4   9.0\n",
       "4  5  11.2\n",
       "5  6  13.6\n",
       "6  7  16.0"
      ]
     },
     "execution_count": 13,
     "metadata": {},
     "output_type": "execute_result"
    }
   ],
   "source": [
    "dataFrame"
   ]
  },
  {
   "cell_type": "code",
   "execution_count": 65,
   "id": "400f192e",
   "metadata": {},
   "outputs": [],
   "source": [
    "data2 = [1.5, 3.8, 6.7, 9.0, 11.2, 13.6, 16]\n",
    "data3 = [3.078,6.314,12.71,31.82,63.66,318.31,636.62]"
   ]
  },
  {
   "cell_type": "code",
   "execution_count": 14,
   "id": "03504bdb",
   "metadata": {},
   "outputs": [
    {
     "name": "stdout",
     "output_type": "stream",
     "text": [
      "this is list [12, 34, 56, 78, 32, 12, 56]\n"
     ]
    },
    {
     "data": {
      "text/plain": [
       "40.0"
      ]
     },
     "execution_count": 14,
     "metadata": {},
     "output_type": "execute_result"
    }
   ],
   "source": [
    "#Mean using class\n",
    "class Mean():\n",
    "    def display(self):\n",
    "        list2 = [12,34,56,78,32,12,56]\n",
    "        Sum = sum(list2)/len(list2)\n",
    "        print(\"this is list {}\".format(list2))\n",
    "        return Sum\n",
    "\n",
    "obj=Mean()\n",
    "obj.display()\n"
   ]
  },
  {
   "cell_type": "code",
   "execution_count": 15,
   "id": "9769f843",
   "metadata": {},
   "outputs": [
    {
     "data": {
      "text/plain": [
       "<bound method Median.display2 of <__main__.Median object at 0x000001D090998EE0>>"
      ]
     },
     "execution_count": 15,
     "metadata": {},
     "output_type": "execute_result"
    }
   ],
   "source": [
    "#Median using class\n",
    "class Median():\n",
    "    def display2(self):\n",
    "        list2 = [12,34,56,78,32,12,56]\n",
    "        n = len(list2)\n",
    "        list2.sort\n",
    "        print(\"This is list : {}\".formate(list2))\n",
    "            \n",
    "        if   (n%2)==0:\n",
    "            Median=list2[n//2]\n",
    "        else:\n",
    "            median2=list2[(n+1)//2]\n",
    "            median3=list2[(n-1)//2]\n",
    "            median=(median2+median3)/2\n",
    "            print('Median :',median)\n",
    "Median().display2 "
   ]
  },
  {
   "cell_type": "code",
   "execution_count": 2,
   "id": "3d2d015e",
   "metadata": {},
   "outputs": [],
   "source": [
    "data4 = [12,34,56,78,32,12,56]"
   ]
  },
  {
   "cell_type": "code",
   "execution_count": null,
   "id": "b63d494f",
   "metadata": {},
   "outputs": [],
   "source": []
  },
  {
   "cell_type": "code",
   "execution_count": null,
   "id": "abe99dbb",
   "metadata": {},
   "outputs": [],
   "source": []
  },
  {
   "cell_type": "code",
   "execution_count": 24,
   "id": "1ad5fd74",
   "metadata": {},
   "outputs": [
    {
     "name": "stdout",
     "output_type": "stream",
     "text": [
      "   0  1  2  3  4\n",
      "0  2  3  4  5  6\n",
      "1 -6 -7 -8  9  3\n"
     ]
    },
    {
     "data": {
      "image/png": "[encoded data removed]",
      "text/plain": [
       "<Figure size 432x288 with 2 Axes>"
      ]
     },
     "metadata": {
      "needs_background": "light"
     },
     "output_type": "display_data"
    }
   ],
   "source": [
    "#corelation\n",
    "a = np.array([[2,3,4,5,6],[-6,-7,-8,9,3]])\n",
    "data=pd.DataFrame(a, dtype=int)\n",
    "print(data)\n",
    "\n",
    "data.corr()\n",
    "sns.heatmap(data)\n",
    "plt.show()"
   ]
  },
  {
   "cell_type": "code",
   "execution_count": null,
   "id": "90b36f9c",
   "metadata": {},
   "outputs": [],
   "source": [
    "# \\sigma =sqrt{\\frac{\\sum \\left ( x_{i}-mean \\right  )^{2}}{N}}"
   ]
  },
  {
   "cell_type": "code",
   "execution_count": 32,
   "id": "f5fdabea",
   "metadata": {},
   "outputs": [],
   "source": [
    "import math as m"
   ]
  },
  {
   "cell_type": "code",
   "execution_count": 42,
   "id": "cf86b584",
   "metadata": {},
   "outputs": [
    {
     "name": "stdout",
     "output_type": "stream",
     "text": [
      "5.5\n"
     ]
    },
    {
     "ename": "TypeError",
     "evalue": "'int' object is not callable",
     "output_type": "error",
     "traceback": [
      "\u001b[1;31m---------------------------------------------------------------------------\u001b[0m",
      "\u001b[1;31mTypeError\u001b[0m                                 Traceback (most recent call last)",
      "\u001b[1;32m~\\AppData\\Local\\Temp/ipykernel_11644/1315316945.py\u001b[0m in \u001b[0;36m<module>\u001b[1;34m\u001b[0m\n\u001b[0;32m     15\u001b[0m \u001b[1;33m\u001b[0m\u001b[0m\n\u001b[0;32m     16\u001b[0m \u001b[0mobj\u001b[0m\u001b[1;33m=\u001b[0m\u001b[0mStandard_deviation\u001b[0m\u001b[1;33m(\u001b[0m\u001b[1;33m)\u001b[0m\u001b[1;33m\u001b[0m\u001b[1;33m\u001b[0m\u001b[0m\n\u001b[1;32m---> 17\u001b[1;33m \u001b[0mobj\u001b[0m\u001b[1;33m.\u001b[0m\u001b[0mdisplay\u001b[0m\u001b[1;33m(\u001b[0m\u001b[1;33m)\u001b[0m\u001b[1;33m\u001b[0m\u001b[1;33m\u001b[0m\u001b[0m\n\u001b[0m",
      "\u001b[1;32m~\\AppData\\Local\\Temp/ipykernel_11644/1315316945.py\u001b[0m in \u001b[0;36mdisplay\u001b[1;34m(self)\u001b[0m\n\u001b[0;32m      9\u001b[0m         \u001b[0mx_\u001b[0m\u001b[1;33m=\u001b[0m\u001b[0msum\u001b[0m\u001b[1;33m/\u001b[0m\u001b[0mlen\u001b[0m\u001b[1;33m(\u001b[0m\u001b[0mlist_a\u001b[0m\u001b[1;33m)\u001b[0m\u001b[1;33m\u001b[0m\u001b[1;33m\u001b[0m\u001b[0m\n\u001b[0;32m     10\u001b[0m         \u001b[0mprint\u001b[0m\u001b[1;33m(\u001b[0m\u001b[0mx_\u001b[0m\u001b[1;33m)\u001b[0m\u001b[1;33m\u001b[0m\u001b[1;33m\u001b[0m\u001b[0m\n\u001b[1;32m---> 11\u001b[1;33m         \u001b[0mnum\u001b[0m\u001b[1;33m=\u001b[0m \u001b[0msum\u001b[0m \u001b[1;33m(\u001b[0m\u001b[1;33m(\u001b[0m \u001b[0mx\u001b[0m\u001b[1;33m-\u001b[0m\u001b[0mx_\u001b[0m  \u001b[1;33m)\u001b[0m \u001b[1;33m**\u001b[0m \u001b[1;36m2\u001b[0m \u001b[1;32mfor\u001b[0m \u001b[0mx\u001b[0m \u001b[1;32min\u001b[0m \u001b[0ml\u001b[0m\u001b[1;33m)\u001b[0m\u001b[1;33m\u001b[0m\u001b[1;33m\u001b[0m\u001b[0m\n\u001b[0m\u001b[0;32m     12\u001b[0m         \u001b[0mden\u001b[0m\u001b[1;33m=\u001b[0m\u001b[0mlen\u001b[0m\u001b[1;33m(\u001b[0m\u001b[0mlist_a\u001b[0m\u001b[1;33m)\u001b[0m\u001b[1;33m\u001b[0m\u001b[1;33m\u001b[0m\u001b[0m\n\u001b[0;32m     13\u001b[0m         \u001b[0mdeviation\u001b[0m\u001b[1;33m=\u001b[0m\u001b[0mnum\u001b[0m\u001b[1;33m/\u001b[0m\u001b[0mden\u001b[0m\u001b[1;33m\u001b[0m\u001b[1;33m\u001b[0m\u001b[0m\n",
      "\u001b[1;31mTypeError\u001b[0m: 'int' object is not callable"
     ]
    }
   ],
   "source": [
    "#standard deviation\n",
    "\n",
    "class Standard_deviation():\n",
    "    def display(self):\n",
    "        list_a=[2,3,4,5,6,7,8,9]\n",
    "        sum=0\n",
    "        for i in list_a:\n",
    "            sum=sum+i\n",
    "        x_=sum/len(list_a)\n",
    "        print(x_)\n",
    "        num= sum (( x-x_  ) ** 2 for x in l)\n",
    "        den=len(list_a)\n",
    "        deviation=num/den\n",
    "        standard=m.sqrt(deviation)    \n",
    "                \n",
    "obj=Standard_deviation()      \n",
    "obj.display()"
   ]
  },
  {
   "cell_type": "code",
   "execution_count": 29,
   "id": "c2f205f5",
   "metadata": {},
   "outputs": [
    {
     "name": "stdout",
     "output_type": "stream",
     "text": [
      "2\n",
      "5\n",
      "9\n",
      "14\n",
      "20\n",
      "27\n",
      "35\n",
      "44\n"
     ]
    }
   ],
   "source": [
    "l=[2,3,4,5,6,7,8,9]\n",
    "sum=0\n",
    "for i in l:\n",
    "    sum=sum+i\n",
    "    print(sum)\n",
    "    "
   ]
  },
  {
   "cell_type": "code",
   "execution_count": 48,
   "id": "e4ea328d",
   "metadata": {},
   "outputs": [
    {
     "data": {
      "text/plain": [
       "624.0"
      ]
     },
     "execution_count": 48,
     "metadata": {},
     "output_type": "execute_result"
    }
   ],
   "source": [
    "1000//1.6"
   ]
  },
  {
   "cell_type": "code",
   "execution_count": null,
   "id": "fa91b35d",
   "metadata": {},
   "outputs": [],
   "source": []
  }
 ],
 "metadata": {
  "kernelspec": {
   "display_name": "Python 3 (ipykernel)",
   "language": "python",
   "name": "python3"
  },
  "language_info": {
   "codemirror_mode": {
    "name": "ipython",
    "version": 3
   },
   "file_extension": ".py",
   "mimetype": "text/x-python",
   "name": "python",
   "nbconvert_exporter": "python",
   "pygments_lexer": "ipython3",
   "version": "3.8.5"
  }
 },
 "nbformat": 4,
 "nbformat_minor": 5
}
